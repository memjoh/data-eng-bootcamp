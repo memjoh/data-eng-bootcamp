{
  "metadata": {
    "kernelspec": {
      "name": "python",
      "display_name": "Python (Pyodide)",
      "language": "python"
    },
    "language_info": {
      "codemirror_mode": {
        "name": "python",
        "version": 3
      },
      "file_extension": ".py",
      "mimetype": "text/x-python",
      "name": "python",
      "nbconvert_exporter": "python",
      "pygments_lexer": "ipython3",
      "version": "3.8"
    }
  },
  "nbformat_minor": 4,
  "nbformat": 4,
  "cells": [
    {
      "cell_type": "markdown",
      "source": "## Classify colors into color families",
      "metadata": {}
    },
    {
      "cell_type": "markdown",
      "source": "The ```colorsys``` module provides functions to convert colors between RGB, YIQ, HLS and HSV spaces.",
      "metadata": {}
    },
    {
      "cell_type": "code",
      "source": "import pandas as pd\nimport colorsys",
      "metadata": {
        "trusted": true
      },
      "outputs": [],
      "execution_count": 15
    },
    {
      "cell_type": "code",
      "source": "# Convert hex color to RGB values\ndef hex_to_rgb(hex_color):\n    return tuple(int(hex_color[i:i+2], 16) for i in (0, 2, 4))\n\n# Convert RGB to HSV color space\ndef rgb_to_hsv(rgb):\n    return colorsys.rgb_to_hsv(rgb[0]/255.0, rgb[1]/255.0, rgb[2]/255.0)\n\n# Categorize color based on hue and saturation\ndef categorize_color(hex_color):\n    rgb = hex_to_rgb(hex_color)\n    h, s, v = rgb_to_hsv(rgb)\n    \n    # Adjust hue to degrees\n    hue_degrees = h * 360\n    \n    # Low saturation colors are grays/whites/blacks\n    if s < 0.2:\n        if v < 0.2:\n            return \"Black\"\n        elif v > 0.8:\n            return \"White\"\n        else:\n            return \"Gray\"\n    \n    # Color categorization\n    if 330 <= hue_degrees or hue_degrees <= 30:\n        return \"Red/Orange\"\n    elif 30 < hue_degrees <= 90:\n        return \"Yellow/Green\"\n    elif 90 < hue_degrees <= 150:\n        return \"Green\"\n    elif 150 < hue_degrees <= 210:\n        return \"Cyan/Teal\"\n    elif 210 < hue_degrees <= 270:\n        return \"Blue\"\n    elif 270 < hue_degrees <= 330:\n        return \"Purple/Magenta\"\n    \n    return \"Uncategorized\"",
      "metadata": {
        "trusted": true
      },
      "outputs": [],
      "execution_count": 16
    },
    {
      "cell_type": "code",
      "source": "# Read colors from the CSV file\nwith open('colors.csv', 'r') as file:\n    colors = [line.strip().replace('\"', '') for line in file.readlines()[1:]]",
      "metadata": {
        "trusted": true
      },
      "outputs": [],
      "execution_count": 17
    },
    {
      "cell_type": "code",
      "source": "# Group colors\ncolor_groups = {}\nfor color in colors:\n    group = categorize_color(color)\n    if group not in color_groups:\n        color_groups[group] = []\n    color_groups[group].append(color)\n\n# Print results\nfor group, color_list in color_groups.items():\n    print(f\"{group} Colors ({len(color_list)} total):\")\n    print(\", \".join(color_list[:10]) + \"...\" if len(color_list) > 10 else \", \".join(color_list))\n    print()",
      "metadata": {
        "trusted": true
      },
      "outputs": [
        {
          "name": "stdout",
          "text": "Black Colors (1 total):\n000000\n\nBlue Colors (15 total):\n0020A0, 0033B2, 0055BF, 0A3463, 2032B0, 3F3691, 4354A3, 4C61DB, 5A93DB, 6074A1...\n\nCyan/Teal Colors (13 total):\n008F9B, 05131D, 078BC9, 184632, 1B2A34, 3592C3, 36AEBF, 55A5AF, 68BCC5, 6C96BF...\n\nGreen Colors (5 total):\n237841, 3CB371, 4B9F4A, 73DCA1, 84B68D\n\nYellow/Green Colors (29 total):\n352100, 645A4C, 899B5F, 958A73, 9B9A5A, A95500, AA7F2E, BBA53D, BBE90B, C0F500...\n\nGray Colors (15 total):\n575857, 635F52, 635F61, 6C6E68, 6D6E5C, 898788, 9BA19D, 9CA3A8, A0A5A9, A0BCAC...\n\nRed/Orange Colors (20 total):\n582A12, 583927, 720E0F, 7C503A, AE7A59, B31004, B48455, B67B50, C91A09, CC702A...\n\nPurple/Magenta Colors (8 total):\n81007B, 845E84, 923978, 96709F, AA4D8E, AC78BA, C870A0, CD6298\n\nWhite Colors (15 total):\nB3D7D1, C1DFF0, C2DAB8, C9CAE2, CFE2F7, D4D5C9, D9D9D9, E0E0E0, E1D5ED, E6E3DA...\n\n",
          "output_type": "stream"
        }
      ],
      "execution_count": 18
    },
    {
      "cell_type": "code",
      "source": "# Pa\ncolor_groups_df = pd.DataFrame.from_dict(color_groups, orient=\"index\").transpose()",
      "metadata": {
        "trusted": true
      },
      "outputs": [],
      "execution_count": 19
    },
    {
      "cell_type": "code",
      "source": "color_groups_df = color_groups_df.melt(var_name=\"Color\", value_name=\"Value\")",
      "metadata": {
        "trusted": true
      },
      "outputs": [],
      "execution_count": 20
    },
    {
      "cell_type": "code",
      "source": "print(color_groups_df[color_groups_df['Value'].str.len() > 0])",
      "metadata": {
        "trusted": true
      },
      "outputs": [
        {
          "name": "stdout",
          "text": "     Color   Value\n0    Black  000000\n29    Blue  0020A0\n30    Blue  0033B2\n31    Blue  0055BF\n32    Blue  0A3463\n..     ...     ...\n242  White  E6E3E0\n243  White  F2F3F2\n244  White  FCFCFC\n245  White  FECCCF\n246  White  FFFFFF\n\n[121 rows x 2 columns]\n",
          "output_type": "stream"
        }
      ],
      "execution_count": 25
    }
  ]
}